{
 "cells": [
  {
   "cell_type": "code",
   "execution_count": 1,
   "id": "2bf5276f-9046-448a-b9ff-66128b48e071",
   "metadata": {},
   "outputs": [],
   "source": [
    "import import_ipynb\n",
    "import BPVal as bp\n",
    "import random"
   ]
  },
  {
   "cell_type": "code",
   "execution_count": 2,
   "id": "3d5b2ac3-c7c6-4513-9ba3-0c8039a3cb92",
   "metadata": {},
   "outputs": [],
   "source": [
    "class Neuron:\n",
    "    def __init__(self, nin, act = \"relu\"):\n",
    "        self.weights = [bp.BPVal(random.uniform(0, 1)) for _ in range(nin)]\n",
    "        self.bias = bp.BPVal(0)\n",
    "        self.act = act\n",
    "\n",
    "    def __call__(self, ins):\n",
    "        assert(len(ins) == len(self.weights))\n",
    "        out = sum((w*x for w,x in zip(ins, self.weights)), self.bias)\n",
    "        if self.act.lower() == \"relu\":\n",
    "            out = out.relu()\n",
    "        elif self.act.lower() == \"sigmoid\":\n",
    "            out = out.sigmoid()\n",
    "        return out\n",
    "        \n",
    "    def parameters(self):\n",
    "        return self.weights + [self.bias]"
   ]
  },
  {
   "cell_type": "code",
   "execution_count": 3,
   "id": "0573b647-4318-42cc-a848-6b2dbaf6afab",
   "metadata": {},
   "outputs": [],
   "source": [
    "class Layer:\n",
    "    def __init__(self, nin, nout):\n",
    "        self.neurons = [Neuron(nin) for _ in range(nout-1)] + [Neuron(nin, act=\"None\")]\n",
    "\n",
    "    def __call__(self, ins):\n",
    "        outs = [n(ins) for n in self.neurons]\n",
    "        return outs if len(outs) > 1 else outs[0]\n",
    "\n",
    "    def parameters(self):\n",
    "        return [p for n in self.neurons for p in n.parameters()]\n",
    "        "
   ]
  },
  {
   "cell_type": "code",
   "execution_count": 4,
   "id": "f96382e1-8e3d-40ed-b947-f9a30b165096",
   "metadata": {},
   "outputs": [],
   "source": [
    "class MLP:\n",
    "    def __init__(self, nin, layer_sizes):\n",
    "        tmp = [nin] + layer_sizes\n",
    "        self.layers = [Layer(tmp[i], tmp[i+1]) for i in range(len(layer_sizes))]\n",
    "\n",
    "    def __call__(self, ins):\n",
    "        for layer in self.layers:\n",
    "            ins = layer(ins)\n",
    "        return ins\n",
    "\n",
    "    def parameters(self):\n",
    "        return [p for layer in self.layers for p in layer.parameters()]\n",
    "\n",
    "    def zero_grad(self):\n",
    "        for p in self.parameters():\n",
    "            p.grad = 0.0"
   ]
  },
  {
   "cell_type": "code",
   "execution_count": null,
   "id": "31555d2a-7cfa-4892-b1ef-2d3bff10469e",
   "metadata": {},
   "outputs": [],
   "source": []
  }
 ],
 "metadata": {
  "kernelspec": {
   "display_name": "Python 3 (ipykernel)",
   "language": "python",
   "name": "python3"
  },
  "language_info": {
   "codemirror_mode": {
    "name": "ipython",
    "version": 3
   },
   "file_extension": ".py",
   "mimetype": "text/x-python",
   "name": "python",
   "nbconvert_exporter": "python",
   "pygments_lexer": "ipython3",
   "version": "3.8.20"
  }
 },
 "nbformat": 4,
 "nbformat_minor": 5
}
